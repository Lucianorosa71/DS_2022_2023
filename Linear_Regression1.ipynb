{
  "nbformat": 4,
  "nbformat_minor": 0,
  "metadata": {
    "colab": {
      "provenance": [],
      "authorship_tag": "ABX9TyOjorzoH+ddYffvGowvBeDy",
      "include_colab_link": true
    },
    "kernelspec": {
      "name": "python3",
      "display_name": "Python 3"
    }
  },
  "cells": [
    {
      "cell_type": "markdown",
      "metadata": {
        "id": "view-in-github",
        "colab_type": "text"
      },
      "source": [
        "<a href=\"https://colab.research.google.com/github/Lucianorosa71/DS_2022_2023/blob/main/Linear_Regression1.ipynb\" target=\"_parent\"><img src=\"https://colab.research.google.com/assets/colab-badge.svg\" alt=\"Open In Colab\"/></a>"
      ]
    },
    {
      "cell_type": "markdown",
      "source": [
        "[![LinkedIn](https://img.shields.io/badge/LinkedIn-ldrosa-blue.svg)](https://www.linkedin.com/in/ldrosa)\n",
        "[![GitHub](https://img.shields.io/badge/GitHub-lucianorosa-purple.svg)](https://github.com/lucianorosa71)"
      ],
      "metadata": {
        "id": "jqQ9jhsGnG7s"
      }
    },
    {
      "cell_type": "code",
      "metadata": {
        "id": "hXbFWvWxV5f5",
        "outputId": "73bd9175-dbed-4c8b-e131-db7bdfcd7f98",
        "colab": {
          "base_uri": "https://localhost:8080/",
          "height": 348
        }
      },
      "source": [
        "# Importando pacotes do Python\n",
        "import numpy as np                                     # Matrizes\n",
        "import matplotlib.pyplot as plt                        # Gráficos\n",
        "from sklearn.linear_model import LinearRegression      # Máquina Preditiva\n",
        "\n",
        "# Criando os dados da variável explicativa, independente ou \"x\"\n",
        "xpoints = np.array([10, 11, 12, 13, 14, 15]).reshape(-1, 1)\n",
        "\n",
        "# Criando os dados da variável dependente ou \"y\"\n",
        "ypoints = np.array([53, 52, 60, 63, 72, 70]).reshape(-1, 1)\n",
        "\n",
        "# Criando a máquina preditiva: escolhendo o algoritmo\n",
        "maquina_preditiva = LinearRegression()\n",
        "\n",
        "# Treinando a máquina preditiva: passando os dados\n",
        "maquina_preditiva.fit(xpoints, ypoints)\n",
        "\n",
        "# Plotando os dados \n",
        "plt.scatter(xpoints, ypoints)\n",
        "\n",
        "# Novas previsões ==> y_pred\n",
        "y_pred = maquina_preditiva.predict(xpoints)\n",
        "\n",
        "# Análise gráfica dos resultados com Matplotlib\n",
        "plt.plot(xpoints, y_pred)\n",
        "plt.xlabel('horas de estudo')\n",
        "plt.ylabel('nota do aluno')\n",
        "plt.show()\n",
        "\n",
        "# Imprimindo coeficientes da função linear\n",
        "print(maquina_preditiva.coef_)\n",
        "print(maquina_preditiva.intercept_)\n",
        "\n",
        "# Inserirndo novo parâmetro \"16\" para o números de horas estudadas\n",
        "x_new = np.array([16]).reshape(-1, 1)\n",
        "\n",
        "# Fazendo predição para novo valor de x \"16\"\n",
        "y_new = maquina_preditiva.predict(x_new)\n",
        "\n",
        "# Imprimindo nova nota para x \"16\"\n",
        "print(\"A nota estimada é de ==>\", y_new)\n",
        "\n",
        "# Cálculo do score da máquina preditiva\n",
        "maquina_preditiva.score(xpoints, ypoints)\n"
      ],
      "execution_count": null,
      "outputs": [
        {
          "output_type": "display_data",
          "data": {
            "text/plain": [
              "<Figure size 432x288 with 1 Axes>"
            ],
            "image/png": "[encoded data removed]"
          },
          "metadata": {
            "needs_background": "light"
          }
        },
        {
          "output_type": "stream",
          "name": "stdout",
          "text": [
            "[[4.22857143]]\n",
            "[8.80952381]\n",
            "A nota estimada é de ==> [[76.46666667]]\n"
          ]
        },
        {
          "output_type": "execute_result",
          "data": {
            "text/plain": [
              "0.8957470010905126"
            ]
          },
          "metadata": {},
          "execution_count": 1
        }
      ]
    }
  ]
}