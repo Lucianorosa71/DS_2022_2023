{
  "nbformat": 4,
  "nbformat_minor": 0,
  "metadata": {
    "kernelspec": {
      "display_name": "Python 3",
      "language": "python",
      "name": "python3"
    },
    "language_info": {
      "codemirror_mode": {
        "name": "ipython",
        "version": 3
      },
      "file_extension": ".py",
      "mimetype": "text/x-python",
      "name": "python",
      "nbconvert_exporter": "python",
      "pygments_lexer": "ipython3",
      "version": "3.7.7"
    },
    "pycharm": {
      "stem_cell": {
        "cell_type": "raw",
        "metadata": {
          "collapsed": false
        },
        "source": []
      }
    },
    "colab": {
      "name": "Análise_Regressão_V1.ipynb",
      "provenance": [],
      "include_colab_link": true
    }
  },
  "cells": [
    {
      "cell_type": "markdown",
      "metadata": {
        "id": "view-in-github",
        "colab_type": "text"
      },
      "source": [
        "<a href=\"https://colab.research.google.com/github/Lucianorosa71/DS_2022_2023/blob/main/Regression_Analysis_V1.ipynb\" target=\"_parent\"><img src=\"https://colab.research.google.com/assets/colab-badge.svg\" alt=\"Open In Colab\"/></a>"
      ]
    },
    {
      "cell_type": "code",
      "metadata": {
        "id": "F__nbPXd-PBI"
      },
      "source": [
        "import pandas                  as pd\n",
        "from   scipy                   import stats\n",
        "import numpy                   as np\n",
        "import matplotlib.pyplot       as plt\n",
        "import seaborn                 as sns\n",
        "import statsmodels.formula.api as sm\n",
        "import os"
      ],
      "execution_count": 1,
      "outputs": []
    },
    {
      "cell_type": "code",
      "metadata": {
        "id": "q87q7R0Q-PBU"
      },
      "source": [
        "Data = pd.DataFrame(index=[0,1,2,3,4,5,6,7], columns=[\"Id Familia\",\"Numero de Cartoes Utilizados\",\"Tamanho da Familia\",\"Renda Familiar x 1000\",\"Numero de Automoveis\"], data=[[1,4,2,14,1],[2,6,2,16,2],[3,6,4,14,2],[4,7,4,17,1],[5,8,5,18,3],[6,7,5,21,2],[7,8,6,17,1],[8,10,6,25,2]])\n",
        "Data"
      ],
      "execution_count": null,
      "outputs": []
    },
    {
      "cell_type": "code",
      "metadata": {
        "id": "EqfpyNV3-PBd"
      },
      "source": [
        "Data.describe()"
      ],
      "execution_count": null,
      "outputs": []
    },
    {
      "cell_type": "code",
      "metadata": {
        "id": "M1FxXO7j-PBl"
      },
      "source": [
        "plt.scatter(Data['Numero de Cartoes Utilizados'],Data['Tamanho da Familia'])\n",
        "plt.title(\"Cartoes vs Tamanho Familia\", fontsize=20, verticalalignment='bottom');\n",
        "plt.xlabel(\"Cartoes\");\n",
        "plt.ylabel(\"Tamanho Familia\");"
      ],
      "execution_count": null,
      "outputs": []
    },
    {
      "cell_type": "code",
      "metadata": {
        "id": "jhR8yJDF-PBs"
      },
      "source": [
        "plt.scatter(Data['Numero de Cartoes Utilizados'],Data['Renda Familiar x 1000'])\n",
        "plt.title(\"Cartoes vs Renda Familiar\", fontsize=20, verticalalignment='bottom');\n",
        "plt.xlabel(\"Cartoes\");\n",
        "plt.ylabel(\"Renda Familiar\");"
      ],
      "execution_count": null,
      "outputs": []
    },
    {
      "cell_type": "code",
      "metadata": {
        "id": "bPQuSqFI-PB2"
      },
      "source": [
        "plt.scatter(Data['Numero de Cartoes Utilizados'],Data['Numero de Automoveis'])\n",
        "plt.title(\"Cartoes vs Numero de Automoveis\", fontsize=20, verticalalignment='bottom');\n",
        "plt.xlabel(\"Cartoes\");\n",
        "plt.ylabel(\"Numero de Automoveis\");"
      ],
      "execution_count": null,
      "outputs": []
    },
    {
      "cell_type": "code",
      "metadata": {
        "scrolled": true,
        "id": "U3KeLbH_-PB_"
      },
      "source": [
        "corr_mat  = Data[[\"Numero de Cartoes Utilizados\",\"Tamanho da Familia\",\"Renda Familiar x 1000\",\"Numero de Automoveis\"]].corr()\n",
        "corr_mat"
      ],
      "execution_count": null,
      "outputs": []
    },
    {
      "cell_type": "code",
      "metadata": {
        "scrolled": true,
        "id": "4X_liRzh-PCL"
      },
      "source": [
        "sns.heatmap(corr_mat,cmap=sns.diverging_palette(220, 10, as_cmap=True))\n",
        "plt.title(\"Matriz de Correlação\")"
      ],
      "execution_count": null,
      "outputs": []
    },
    {
      "cell_type": "code",
      "metadata": {
        "id": "x1c-eZu7-PCh"
      },
      "source": [
        "Data1 = pd.DataFrame(index=[0,1,2,3,4,5,6,7], columns=[\"Id\",\"Cartoes\",\"Familia\",\"Renda\",\"Automoveis\"], data=[[1,4,2,14,1],[2,6,2,16,2],[3,6,4,14,2],[4,7,4,17,1],[5,8,5,18,3],[6,7,5,21,2],[7,8,6,17,1],[8,10,6,25,2]])"
      ],
      "execution_count": 9,
      "outputs": []
    },
    {
      "cell_type": "code",
      "metadata": {
        "id": "s-4sEjFJ-PCo"
      },
      "source": [
        "modelo1='Cartoes~Familia'\n",
        "lm1   = sm.ols(formula = modelo1,data = Data1).fit()\n",
        "print(lm1.summary())"
      ],
      "execution_count": null,
      "outputs": []
    },
    {
      "cell_type": "code",
      "metadata": {
        "id": "bDo_MDai-PDp"
      },
      "source": [
        "previsao=pd.DataFrame(index=[0],columns=[\"Familia\"],data=[4])"
      ],
      "execution_count": 12,
      "outputs": []
    },
    {
      "cell_type": "code",
      "metadata": {
        "id": "OwiXvMzn-PDv",
        "colab": {
          "base_uri": "https://localhost:8080/"
        },
        "outputId": "bac87c4e-6eb3-4cca-8c1c-767f5f48e235"
      },
      "source": [
        "predicao=lm1.predict(previsao)\n",
        "predicao"
      ],
      "execution_count": 13,
      "outputs": [
        {
          "output_type": "execute_result",
          "data": {
            "text/plain": [
              "0    6.757143\n",
              "dtype: float64"
            ]
          },
          "metadata": {},
          "execution_count": 13
        }
      ]
    },
    {
      "cell_type": "code",
      "metadata": {
        "pycharm": {
          "name": "#%%\n"
        },
        "id": "9_SsqCaf-PD2"
      },
      "source": [
        "sns.lmplot(x= 'Numero de Cartoes Utilizados',y='Tamanho da Familia', data= Data)"
      ],
      "execution_count": null,
      "outputs": []
    },
    {
      "cell_type": "code",
      "metadata": {
        "pycharm": {
          "name": "#%%\n"
        },
        "id": "M6JcHWNN-PD9"
      },
      "source": [
        "modelo3='Cartoes~Familia+Renda'\n",
        "lm3   = sm.ols(formula = modelo3,data = Data1).fit()\n",
        "print(lm3.summary())"
      ],
      "execution_count": null,
      "outputs": []
    }
  ]
}