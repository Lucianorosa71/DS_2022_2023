{
  "nbformat": 4,
  "nbformat_minor": 0,
  "metadata": {
    "colab": {
      "provenance": [],
      "include_colab_link": true
    },
    "kernelspec": {
      "name": "python3",
      "display_name": "Python 3"
    }
  },
  "cells": [
    {
      "cell_type": "markdown",
      "metadata": {
        "id": "view-in-github",
        "colab_type": "text"
      },
      "source": [
        "<a href=\"https://colab.research.google.com/github/Lucianorosa71/DS_2022_2023/blob/main/Dimensionality_Reduction.ipynb\" target=\"_parent\"><img src=\"https://colab.research.google.com/assets/colab-badge.svg\" alt=\"Open In Colab\"/></a>"
      ]
    },
    {
      "cell_type": "markdown",
      "metadata": {
        "id": "qB2VIDLEOam6"
      },
      "source": [
        "# Dimensionality Reduction\n",
        "\n",
        "Dimensionality reduction is the process in which we minimize the amount of data, discarding unnecessary *features* but preserving as much information as possible.\n",
        "\n",
        "**Example with only 1 target variable and 1 independent variable**"
      ]
    },
    {
      "cell_type": "code",
      "metadata": {
        "id": "N0Cus89qNFdF"
      },
      "source": [
        "# importar as bibliotecas necessárias\n",
        "import numpy as np\n",
        "import matplotlib.pyplot as plt\n",
        "import pandas as pd"
      ],
      "execution_count": null,
      "outputs": []
    },
    {
      "cell_type": "code",
      "metadata": {
        "id": "uci175SINQ9R",
        "colab": {
          "base_uri": "https://localhost:8080/",
          "height": 295
        },
        "outputId": "a7601c16-60eb-42a4-8df3-0b012375d64e"
      },
      "source": [
        "# exemplo com apenas 1 variável independente\n",
        "x = np.arange(50)\n",
        "y = np.random.normal(x, 5)\n",
        "\n",
        "plt.scatter(x, y, s=10)\n",
        "plt.title(\"Idade x Salário\")\n",
        "plt.xlabel(\"idade\")\n",
        "plt.ylabel(\"salário\")\n",
        "plt.show()"
      ],
      "execution_count": null,
      "outputs": [
        {
          "output_type": "display_data",
          "data": {
            "text/plain": [
              "<Figure size 432x288 with 1 Axes>"
            ],
            "image/png": "[encoded data removed]"
          },
          "metadata": {
            "needs_background": "light"
          }
        }
      ]
    },
    {
      "cell_type": "markdown",
      "metadata": {
        "id": "QSL4dAK8Ns93"
      },
      "source": [
        "**What if I have 100 independent variables?**\n",
        "\n",
        "* Computational complexity.\n",
        "* Unfeasible visualization.\n",
        "* There are probably unnecessary variables.\n",
        "* Very complex model.\n",
        "\n",
        "## Dimensionality reduction techniques\n",
        "\n",
        "1. Feature Selection\n",
        "    * missing values \n",
        "    * low variance\n",
        "    * High correlation\n",
        "    * Backward feature elimination\n",
        "    * Forward feature selection\n",
        "2. Features extraction\n",
        "    * Factor Analysis\n",
        "    * Principal Component Analysis"
      ]
    },
    {
      "cell_type": "markdown",
      "metadata": {
        "id": "721jn-VIPayb"
      },
      "source": [
        "### Proportion of missing values"
      ]
    },
    {
      "cell_type": "code",
      "metadata": {
        "id": "_-O6PBNFOytf",
        "colab": {
          "base_uri": "https://localhost:8080/",
          "height": 299
        },
        "outputId": "b00dbd2d-f706-4d90-a5b9-16e41484d652"
      },
      "source": [
        "df = pd.read_csv(\"https://raw.githubusercontent.com/carlosfab/dsnp2/master/datasets/violencia_rio.csv\")\n",
        "\n",
        "df.head()"
      ],
      "execution_count": null,
      "outputs": [
        {
          "output_type": "execute_result",
          "data": {
            "text/plain": [
              "   vano  mes  hom_doloso  lesao_corp_morte  latrocinio  \\\n",
              "0  1991    1         657               NaN          15   \n",
              "1  1991    2         732               NaN          17   \n",
              "2  1991    3         713               NaN          25   \n",
              "3  1991    4         634               NaN          20   \n",
              "4  1991    5         650               NaN          20   \n",
              "\n",
              "   hom_por_interv_policial  tentat_hom  lesao_corp_dolosa  estupro  \\\n",
              "0                      NaN         162               3051      NaN   \n",
              "1                      NaN         175               3421      NaN   \n",
              "2                      NaN         216               3613      NaN   \n",
              "3                      NaN         200               3211      NaN   \n",
              "4                      NaN         146               3051      NaN   \n",
              "\n",
              "   hom_culposo  ...  pessoas_desaparecidas  encontro_cadaver  encontro_ossada  \\\n",
              "0          NaN  ...                    NaN               217              NaN   \n",
              "1          NaN  ...                    NaN               209              NaN   \n",
              "2          NaN  ...                    NaN               188              NaN   \n",
              "3          NaN  ...                    NaN               140              NaN   \n",
              "4          NaN  ...                    NaN                78              NaN   \n",
              "\n",
              "   pol_militares_mortos_serv  pol_civis_mortos_serv  indicador_letalidade  \\\n",
              "0                        NaN                    NaN                   672   \n",
              "1                        NaN                    NaN                   749   \n",
              "2                        NaN                    NaN                   738   \n",
              "3                        NaN                    NaN                   654   \n",
              "4                        NaN                    NaN                   670   \n",
              "\n",
              "   indicador_roubo_rua  indicador_roubo_veic  registro_ocorrencias  fase  \n",
              "0                 1348                  1174                   NaN     3  \n",
              "1                 1395                  1097                   NaN     3  \n",
              "2                 1385                  1265                   NaN     3  \n",
              "3                 1540                  1415                   NaN     3  \n",
              "4                 1266                  1449                   NaN     3  \n",
              "\n",
              "[5 rows x 56 columns]"
            ],
            "text/html": [
              "\n",
              "  <div id=\"df-585de853-48d8-4a5a-9546-260ff177ed47\">\n",
              "    <div class=\"colab-df-container\">\n",
              "      <div>\n",
              "<style scoped>\n",
              "    .dataframe tbody tr th:only-of-type {\n",
              "        vertical-align: middle;\n",
              "    }\n",
              "\n",
              "    .dataframe tbody tr th {\n",
              "        vertical-align: top;\n",
              "    }\n",
              "\n",
              "    .dataframe thead th {\n",
              "        text-align: right;\n",
              "    }\n",
              "</style>\n",
              "<table border=\"1\" class=\"dataframe\">\n",
              "  <thead>\n",
              "    <tr style=\"text-align: right;\">\n",
              "      <th></th>\n",
              "      <th>vano</th>\n",
              "      <th>mes</th>\n",
              "      <th>hom_doloso</th>\n",
              "      <th>lesao_corp_morte</th>\n",
              "      <th>latrocinio</th>\n",
              "      <th>hom_por_interv_policial</th>\n",
              "      <th>tentat_hom</th>\n",
              "      <th>lesao_corp_dolosa</th>\n",
              "      <th>estupro</th>\n",
              "      <th>hom_culposo</th>\n",
              "      <th>...</th>\n",
              "      <th>pessoas_desaparecidas</th>\n",
              "      <th>encontro_cadaver</th>\n",
              "      <th>encontro_ossada</th>\n",
              "      <th>pol_militares_mortos_serv</th>\n",
              "      <th>pol_civis_mortos_serv</th>\n",
              "      <th>indicador_letalidade</th>\n",
              "      <th>indicador_roubo_rua</th>\n",
              "      <th>indicador_roubo_veic</th>\n",
              "      <th>registro_ocorrencias</th>\n",
              "      <th>fase</th>\n",
              "    </tr>\n",
              "  </thead>\n",
              "  <tbody>\n",
              "    <tr>\n",
              "      <th>0</th>\n",
              "      <td>1991</td>\n",
              "      <td>1</td>\n",
              "      <td>657</td>\n",
              "      <td>NaN</td>\n",
              "      <td>15</td>\n",
              "      <td>NaN</td>\n",
              "      <td>162</td>\n",
              "      <td>3051</td>\n",
              "      <td>NaN</td>\n",
              "      <td>NaN</td>\n",
              "      <td>...</td>\n",
              "      <td>NaN</td>\n",
              "      <td>217</td>\n",
              "      <td>NaN</td>\n",
              "      <td>NaN</td>\n",
              "      <td>NaN</td>\n",
              "      <td>672</td>\n",
              "      <td>1348</td>\n",
              "      <td>1174</td>\n",
              "      <td>NaN</td>\n",
              "      <td>3</td>\n",
              "    </tr>\n",
              "    <tr>\n",
              "      <th>1</th>\n",
              "      <td>1991</td>\n",
              "      <td>2</td>\n",
              "      <td>732</td>\n",
              "      <td>NaN</td>\n",
              "      <td>17</td>\n",
              "      <td>NaN</td>\n",
              "      <td>175</td>\n",
              "      <td>3421</td>\n",
              "      <td>NaN</td>\n",
              "      <td>NaN</td>\n",
              "      <td>...</td>\n",
              "      <td>NaN</td>\n",
              "      <td>209</td>\n",
              "      <td>NaN</td>\n",
              "      <td>NaN</td>\n",
              "      <td>NaN</td>\n",
              "      <td>749</td>\n",
              "      <td>1395</td>\n",
              "      <td>1097</td>\n",
              "      <td>NaN</td>\n",
              "      <td>3</td>\n",
              "    </tr>\n",
              "    <tr>\n",
              "      <th>2</th>\n",
              "      <td>1991</td>\n",
              "      <td>3</td>\n",
              "      <td>713</td>\n",
              "      <td>NaN</td>\n",
              "      <td>25</td>\n",
              "      <td>NaN</td>\n",
              "      <td>216</td>\n",
              "      <td>3613</td>\n",
              "      <td>NaN</td>\n",
              "      <td>NaN</td>\n",
              "      <td>...</td>\n",
              "      <td>NaN</td>\n",
              "      <td>188</td>\n",
              "      <td>NaN</td>\n",
              "      <td>NaN</td>\n",
              "      <td>NaN</td>\n",
              "      <td>738</td>\n",
              "      <td>1385</td>\n",
              "      <td>1265</td>\n",
              "      <td>NaN</td>\n",
              "      <td>3</td>\n",
              "    </tr>\n",
              "    <tr>\n",
              "      <th>3</th>\n",
              "      <td>1991</td>\n",
              "      <td>4</td>\n",
              "      <td>634</td>\n",
              "      <td>NaN</td>\n",
              "      <td>20</td>\n",
              "      <td>NaN</td>\n",
              "      <td>200</td>\n",
              "      <td>3211</td>\n",
              "      <td>NaN</td>\n",
              "      <td>NaN</td>\n",
              "      <td>...</td>\n",
              "      <td>NaN</td>\n",
              "      <td>140</td>\n",
              "      <td>NaN</td>\n",
              "      <td>NaN</td>\n",
              "      <td>NaN</td>\n",
              "      <td>654</td>\n",
              "      <td>1540</td>\n",
              "      <td>1415</td>\n",
              "      <td>NaN</td>\n",
              "      <td>3</td>\n",
              "    </tr>\n",
              "    <tr>\n",
              "      <th>4</th>\n",
              "      <td>1991</td>\n",
              "      <td>5</td>\n",
              "      <td>650</td>\n",
              "      <td>NaN</td>\n",
              "      <td>20</td>\n",
              "      <td>NaN</td>\n",
              "      <td>146</td>\n",
              "      <td>3051</td>\n",
              "      <td>NaN</td>\n",
              "      <td>NaN</td>\n",
              "      <td>...</td>\n",
              "      <td>NaN</td>\n",
              "      <td>78</td>\n",
              "      <td>NaN</td>\n",
              "      <td>NaN</td>\n",
              "      <td>NaN</td>\n",
              "      <td>670</td>\n",
              "      <td>1266</td>\n",
              "      <td>1449</td>\n",
              "      <td>NaN</td>\n",
              "      <td>3</td>\n",
              "    </tr>\n",
              "  </tbody>\n",
              "</table>\n",
              "<p>5 rows × 56 columns</p>\n",
              "</div>\n",
              "      <button class=\"colab-df-convert\" onclick=\"convertToInteractive('df-585de853-48d8-4a5a-9546-260ff177ed47')\"\n",
              "              title=\"Convert this dataframe to an interactive table.\"\n",
              "              style=\"display:none;\">\n",
              "        \n",
              "  <svg xmlns=\"http://www.w3.org/2000/svg\" height=\"24px\"viewBox=\"0 0 24 24\"\n",
              "       width=\"24px\">\n",
              "    <path d=\"M0 0h24v24H0V0z\" fill=\"none\"/>\n",
              "    <path d=\"M18.56 5.44l.94 2.06.94-2.06 2.06-.94-2.06-.94-.94-2.06-.94 2.06-2.06.94zm-11 1L8.5 8.5l.94-2.06 2.06-.94-2.06-.94L8.5 2.5l-.94 2.06-2.06.94zm10 10l.94 2.06.94-2.06 2.06-.94-2.06-.94-.94-2.06-.94 2.06-2.06.94z\"/><path d=\"M17.41 7.96l-1.37-1.37c-.4-.4-.92-.59-1.43-.59-.52 0-1.04.2-1.43.59L10.3 9.45l-7.72 7.72c-.78.78-.78 2.05 0 2.83L4 21.41c.39.39.9.59 1.41.59.51 0 1.02-.2 1.41-.59l7.78-7.78 2.81-2.81c.8-.78.8-2.07 0-2.86zM5.41 20L4 18.59l7.72-7.72 1.47 1.35L5.41 20z\"/>\n",
              "  </svg>\n",
              "      </button>\n",
              "      \n",
              "  <style>\n",
              "    .colab-df-container {\n",
              "      display:flex;\n",
              "      flex-wrap:wrap;\n",
              "      gap: 12px;\n",
              "    }\n",
              "\n",
              "    .colab-df-convert {\n",
              "      background-color: #E8F0FE;\n",
              "      border: none;\n",
              "      border-radius: 50%;\n",
              "      cursor: pointer;\n",
              "      display: none;\n",
              "      fill: #1967D2;\n",
              "      height: 32px;\n",
              "      padding: 0 0 0 0;\n",
              "      width: 32px;\n",
              "    }\n",
              "\n",
              "    .colab-df-convert:hover {\n",
              "      background-color: #E2EBFA;\n",
              "      box-shadow: 0px 1px 2px rgba(60, 64, 67, 0.3), 0px 1px 3px 1px rgba(60, 64, 67, 0.15);\n",
              "      fill: #174EA6;\n",
              "    }\n",
              "\n",
              "    [theme=dark] .colab-df-convert {\n",
              "      background-color: #3B4455;\n",
              "      fill: #D2E3FC;\n",
              "    }\n",
              "\n",
              "    [theme=dark] .colab-df-convert:hover {\n",
              "      background-color: #434B5C;\n",
              "      box-shadow: 0px 1px 3px 1px rgba(0, 0, 0, 0.15);\n",
              "      filter: drop-shadow(0px 1px 2px rgba(0, 0, 0, 0.3));\n",
              "      fill: #FFFFFF;\n",
              "    }\n",
              "  </style>\n",
              "\n",
              "      <script>\n",
              "        const buttonEl =\n",
              "          document.querySelector('#df-585de853-48d8-4a5a-9546-260ff177ed47 button.colab-df-convert');\n",
              "        buttonEl.style.display =\n",
              "          google.colab.kernel.accessAllowed ? 'block' : 'none';\n",
              "\n",
              "        async function convertToInteractive(key) {\n",
              "          const element = document.querySelector('#df-585de853-48d8-4a5a-9546-260ff177ed47');\n",
              "          const dataTable =\n",
              "            await google.colab.kernel.invokeFunction('convertToInteractive',\n",
              "                                                     [key], {});\n",
              "          if (!dataTable) return;\n",
              "\n",
              "          const docLinkHtml = 'Like what you see? Visit the ' +\n",
              "            '<a target=\"_blank\" href=https://colab.research.google.com/notebooks/data_table.ipynb>data table notebook</a>'\n",
              "            + ' to learn more about interactive tables.';\n",
              "          element.innerHTML = '';\n",
              "          dataTable['output_type'] = 'display_data';\n",
              "          await google.colab.output.renderOutput(dataTable, element);\n",
              "          const docLink = document.createElement('div');\n",
              "          docLink.innerHTML = docLinkHtml;\n",
              "          element.appendChild(docLink);\n",
              "        }\n",
              "      </script>\n",
              "    </div>\n",
              "  </div>\n",
              "  "
            ]
          },
          "metadata": {},
          "execution_count": 3
        }
      ]
    },
    {
      "cell_type": "code",
      "metadata": {
        "id": "UYjQ-mtYQUSo",
        "colab": {
          "base_uri": "https://localhost:8080/"
        },
        "outputId": "aa11e78f-1c2e-406f-af07-b3cf93be5247"
      },
      "source": [
        "(df.isnull().sum() / df.shape[0]).sort_values(ascending=False).head(10)"
      ],
      "execution_count": null,
      "outputs": [
        {
          "output_type": "execute_result",
          "data": {
            "text/plain": [
              "furto_bicicleta               0.802326\n",
              "roubo_bicicleta               0.802326\n",
              "cmba                          0.523256\n",
              "posse_drogas                  0.523256\n",
              "trafico_drogas                0.523256\n",
              "apreensao_drogas_sem_autor    0.523256\n",
              "apf                           0.523256\n",
              "aaapai                        0.523256\n",
              "cmp                           0.523256\n",
              "furto_celular                 0.418605\n",
              "dtype: float64"
            ]
          },
          "metadata": {},
          "execution_count": 4
        }
      ]
    },
    {
      "cell_type": "code",
      "metadata": {
        "id": "ImLmITjjQXBW"
      },
      "source": [
        "df_clean = df.drop(['roubo_bicicleta', 'roubo_bicicleta'], axis=1)"
      ],
      "execution_count": null,
      "outputs": []
    },
    {
      "cell_type": "code",
      "metadata": {
        "id": "K-0d8-UVUCaw"
      },
      "source": [
        "threshold = 0.6\n",
        "\n",
        "colunas = df.columns\n",
        "val_ausentes = (df.isnull().sum() / df.shape[0])\n",
        "manter = []\n",
        "\n",
        "for i, j in enumerate(colunas):\n",
        "    if val_ausentes[i] < threshold:\n",
        "        manter.append(j)"
      ],
      "execution_count": null,
      "outputs": []
    },
    {
      "cell_type": "code",
      "metadata": {
        "id": "NY3-GFg9VM-m"
      },
      "source": [
        "df_clean = df[manter].copy()"
      ],
      "execution_count": null,
      "outputs": []
    },
    {
      "cell_type": "markdown",
      "metadata": {
        "id": "y-cUcKCFRo9B"
      },
      "source": [
        "Some literatures bring as a guideline, a threshold between 60-75%.\n",
        "\n",
        "However, know your problem. Missing data may be due to the fact that it was not launched, an error in data collection or even an error in reading (separator, encoding). In that case, you can just process the data, populate it with mean, median, mode, or create a machine learning model."
      ]
    },
    {
      "cell_type": "markdown",
      "metadata": {
        "id": "oOx8uN3SSGVA"
      },
      "source": [
        "### Low variance filter\n"
      ]
    },
    {
      "cell_type": "code",
      "metadata": {
        "id": "9vRvrYB9Sjtu",
        "colab": {
          "base_uri": "https://localhost:8080/",
          "height": 198
        },
        "outputId": "0d97fcb2-e569-4141-e3cb-c8934bb8b572"
      },
      "source": [
        "from sklearn.preprocessing import normalize\n",
        "\n",
        "df = pd.read_csv(\"https://raw.githubusercontent.com/carlosfab/escola-data-science/master/datasets/baixa_variancia.csv\")\n",
        "\n",
        "df.head()w"
      ],
      "execution_count": null,
      "outputs": [
        {
          "output_type": "execute_result",
          "data": {
            "text/html": [
              "<div>\n",
              "<style scoped>\n",
              "    .dataframe tbody tr th:only-of-type {\n",
              "        vertical-align: middle;\n",
              "    }\n",
              "\n",
              "    .dataframe tbody tr th {\n",
              "        vertical-align: top;\n",
              "    }\n",
              "\n",
              "    .dataframe thead th {\n",
              "        text-align: right;\n",
              "    }\n",
              "</style>\n",
              "<table border=\"1\" class=\"dataframe\">\n",
              "  <thead>\n",
              "    <tr style=\"text-align: right;\">\n",
              "      <th></th>\n",
              "      <th>ID</th>\n",
              "      <th>temp</th>\n",
              "      <th>atemp</th>\n",
              "      <th>humidity</th>\n",
              "      <th>windspeed</th>\n",
              "      <th>count</th>\n",
              "    </tr>\n",
              "  </thead>\n",
              "  <tbody>\n",
              "    <tr>\n",
              "      <th>0</th>\n",
              "      <td>AB101</td>\n",
              "      <td>9.84</td>\n",
              "      <td>14.395</td>\n",
              "      <td>81</td>\n",
              "      <td>0.0</td>\n",
              "      <td>16</td>\n",
              "    </tr>\n",
              "    <tr>\n",
              "      <th>1</th>\n",
              "      <td>AB102</td>\n",
              "      <td>9.02</td>\n",
              "      <td>13.635</td>\n",
              "      <td>80</td>\n",
              "      <td>0.0</td>\n",
              "      <td>40</td>\n",
              "    </tr>\n",
              "    <tr>\n",
              "      <th>2</th>\n",
              "      <td>AB103</td>\n",
              "      <td>9.02</td>\n",
              "      <td>13.635</td>\n",
              "      <td>80</td>\n",
              "      <td>0.0</td>\n",
              "      <td>32</td>\n",
              "    </tr>\n",
              "    <tr>\n",
              "      <th>3</th>\n",
              "      <td>AB104</td>\n",
              "      <td>9.84</td>\n",
              "      <td>14.395</td>\n",
              "      <td>75</td>\n",
              "      <td>0.0</td>\n",
              "      <td>13</td>\n",
              "    </tr>\n",
              "    <tr>\n",
              "      <th>4</th>\n",
              "      <td>AB105</td>\n",
              "      <td>9.84</td>\n",
              "      <td>14.395</td>\n",
              "      <td>75</td>\n",
              "      <td>0.0</td>\n",
              "      <td>1</td>\n",
              "    </tr>\n",
              "  </tbody>\n",
              "</table>\n",
              "</div>"
            ],
            "text/plain": [
              "      ID  temp   atemp  humidity  windspeed  count\n",
              "0  AB101  9.84  14.395        81        0.0     16\n",
              "1  AB102  9.02  13.635        80        0.0     40\n",
              "2  AB103  9.02  13.635        80        0.0     32\n",
              "3  AB104  9.84  14.395        75        0.0     13\n",
              "4  AB105  9.84  14.395        75        0.0      1"
            ]
          },
          "metadata": {
            "tags": []
          },
          "execution_count": 14
        }
      ]
    },
    {
      "cell_type": "code",
      "metadata": {
        "id": "ZG1LMMK_WKQ3",
        "colab": {
          "base_uri": "https://localhost:8080/",
          "height": 198
        },
        "outputId": "253a34cc-5fb7-446d-94f4-f107981a658a"
      },
      "source": [
        "df['nova'] = np.random.normal(7, .2, df.shape[0])\n",
        "df.head()"
      ],
      "execution_count": null,
      "outputs": [
        {
          "output_type": "execute_result",
          "data": {
            "text/html": [
              "<div>\n",
              "<style scoped>\n",
              "    .dataframe tbody tr th:only-of-type {\n",
              "        vertical-align: middle;\n",
              "    }\n",
              "\n",
              "    .dataframe tbody tr th {\n",
              "        vertical-align: top;\n",
              "    }\n",
              "\n",
              "    .dataframe thead th {\n",
              "        text-align: right;\n",
              "    }\n",
              "</style>\n",
              "<table border=\"1\" class=\"dataframe\">\n",
              "  <thead>\n",
              "    <tr style=\"text-align: right;\">\n",
              "      <th></th>\n",
              "      <th>ID</th>\n",
              "      <th>temp</th>\n",
              "      <th>atemp</th>\n",
              "      <th>humidity</th>\n",
              "      <th>windspeed</th>\n",
              "      <th>count</th>\n",
              "      <th>nova</th>\n",
              "    </tr>\n",
              "  </thead>\n",
              "  <tbody>\n",
              "    <tr>\n",
              "      <th>0</th>\n",
              "      <td>AB101</td>\n",
              "      <td>9.84</td>\n",
              "      <td>14.395</td>\n",
              "      <td>81</td>\n",
              "      <td>0.0</td>\n",
              "      <td>16</td>\n",
              "      <td>6.966514</td>\n",
              "    </tr>\n",
              "    <tr>\n",
              "      <th>1</th>\n",
              "      <td>AB102</td>\n",
              "      <td>9.02</td>\n",
              "      <td>13.635</td>\n",
              "      <td>80</td>\n",
              "      <td>0.0</td>\n",
              "      <td>40</td>\n",
              "      <td>6.884095</td>\n",
              "    </tr>\n",
              "    <tr>\n",
              "      <th>2</th>\n",
              "      <td>AB103</td>\n",
              "      <td>9.02</td>\n",
              "      <td>13.635</td>\n",
              "      <td>80</td>\n",
              "      <td>0.0</td>\n",
              "      <td>32</td>\n",
              "      <td>7.201195</td>\n",
              "    </tr>\n",
              "    <tr>\n",
              "      <th>3</th>\n",
              "      <td>AB104</td>\n",
              "      <td>9.84</td>\n",
              "      <td>14.395</td>\n",
              "      <td>75</td>\n",
              "      <td>0.0</td>\n",
              "      <td>13</td>\n",
              "      <td>6.823344</td>\n",
              "    </tr>\n",
              "    <tr>\n",
              "      <th>4</th>\n",
              "      <td>AB105</td>\n",
              "      <td>9.84</td>\n",
              "      <td>14.395</td>\n",
              "      <td>75</td>\n",
              "      <td>0.0</td>\n",
              "      <td>1</td>\n",
              "      <td>7.021069</td>\n",
              "    </tr>\n",
              "  </tbody>\n",
              "</table>\n",
              "</div>"
            ],
            "text/plain": [
              "      ID  temp   atemp  humidity  windspeed  count      nova\n",
              "0  AB101  9.84  14.395        81        0.0     16  6.966514\n",
              "1  AB102  9.02  13.635        80        0.0     40  6.884095\n",
              "2  AB103  9.02  13.635        80        0.0     32  7.201195\n",
              "3  AB104  9.84  14.395        75        0.0     13  6.823344\n",
              "4  AB105  9.84  14.395        75        0.0      1  7.021069"
            ]
          },
          "metadata": {
            "tags": []
          },
          "execution_count": 15
        }
      ]
    },
    {
      "cell_type": "code",
      "metadata": {
        "id": "UM-h_0nWSpOi"
      },
      "source": [
        "df.drop('ID', axis=1, inplace=True)"
      ],
      "execution_count": null,
      "outputs": []
    },
    {
      "cell_type": "code",
      "metadata": {
        "id": "yF47a76GVw5W",
        "colab": {
          "base_uri": "https://localhost:8080/",
          "height": 145
        },
        "outputId": "71a748f7-96ee-4fa7-fff5-7ed397afccc3"
      },
      "source": [
        "df.var()"
      ],
      "execution_count": null,
      "outputs": [
        {
          "output_type": "execute_result",
          "data": {
            "text/plain": [
              "temp            61.291712\n",
              "atemp           73.137484\n",
              "humidity       398.549141\n",
              "windspeed       69.322053\n",
              "count        25843.419864\n",
              "nova             0.040718\n",
              "dtype: float64"
            ]
          },
          "metadata": {
            "tags": []
          },
          "execution_count": 17
        }
      ]
    },
    {
      "cell_type": "code",
      "metadata": {
        "id": "bWDmwUSwS1ri",
        "colab": {
          "base_uri": "https://localhost:8080/",
          "height": 254
        },
        "outputId": "c363475b-13f4-4ad0-d6c7-35f93e2dfe3d"
      },
      "source": [
        "scaler = normalize(df)\n",
        "scaler"
      ],
      "execution_count": null,
      "outputs": [
        {
          "output_type": "execute_result",
          "data": {
            "text/plain": [
              "array([[0.11621132, 0.17000629, 0.95661755, 0.        , 0.18896149,\n",
              "        0.08227518],\n",
              "       [0.09892002, 0.14953153, 0.87733938, 0.        , 0.43866969,\n",
              "        0.0754961 ],\n",
              "       [0.10250575, 0.15495188, 0.90914193, 0.        , 0.36365677,\n",
              "        0.08183635],\n",
              "       ...,\n",
              "       [0.18334855, 0.22722241, 0.34357403, 0.07088532, 0.88892963,\n",
              "        0.03859465],\n",
              "       [0.34761867, 0.43080107, 0.65139728, 0.13439463, 0.49630269,\n",
              "        0.06982121],\n",
              "       [0.21890332, 0.24017632, 0.74246935, 0.09177755, 0.57562231,\n",
              "        0.0580669 ]])"
            ]
          },
          "metadata": {
            "tags": []
          },
          "execution_count": 18
        }
      ]
    },
    {
      "cell_type": "code",
      "metadata": {
        "id": "hMBw9LDWS2P6",
        "colab": {
          "base_uri": "https://localhost:8080/",
          "height": 145
        },
        "outputId": "c711a29d-9f33-45c1-c8a4-7be31c235bcf"
      },
      "source": [
        "variancia = pd.DataFrame(scaler).var()\n",
        "variancia"
      ],
      "execution_count": null,
      "outputs": [
        {
          "output_type": "execute_result",
          "data": {
            "text/plain": [
              "0    0.005814\n",
              "1    0.007888\n",
              "2    0.092631\n",
              "3    0.008643\n",
              "4    0.112018\n",
              "5    0.000978\n",
              "dtype: float64"
            ]
          },
          "metadata": {
            "tags": []
          },
          "execution_count": 22
        }
      ]
    },
    {
      "cell_type": "code",
      "metadata": {
        "id": "z5TS4MRtV7Jg"
      },
      "source": [
        "threshold = 0.05\n",
        "\n",
        "colunas = df.columns\n",
        "manter = []\n",
        "\n",
        "for i, j in enumerate(colunas):\n",
        "    if variancia[i] >= threshold:\n",
        "        manter.append(j)"
      ],
      "execution_count": null,
      "outputs": []
    },
    {
      "cell_type": "code",
      "metadata": {
        "id": "r5mWINbeXyG5",
        "colab": {
          "base_uri": "https://localhost:8080/",
          "height": 35
        },
        "outputId": "2aa4fdb4-84ad-481b-d624-91388d0ae806"
      },
      "source": [
        "manter"
      ],
      "execution_count": null,
      "outputs": [
        {
          "output_type": "execute_result",
          "data": {
            "text/plain": [
              "['humidity', 'count']"
            ]
          },
          "metadata": {
            "tags": []
          },
          "execution_count": 28
        }
      ]
    },
    {
      "cell_type": "code",
      "metadata": {
        "id": "1FlondWJXnP3"
      },
      "source": [
        "df_novo = df[manter]"
      ],
      "execution_count": null,
      "outputs": []
    },
    {
      "cell_type": "markdown",
      "metadata": {
        "id": "HnYp2fgkYaYu"
      },
      "source": [
        "You must define a threshold and also normalize the data before working with the low variance filter."
      ]
    },
    {
      "cell_type": "markdown",
      "metadata": {
        "id": "iYa0nYcGXn8f"
      },
      "source": [
        "## High correlation filter"
      ]
    },
    {
      "cell_type": "code",
      "metadata": {
        "id": "h7E4Ug_wYGyM",
        "colab": {
          "base_uri": "https://localhost:8080/",
          "height": 198
        },
        "outputId": "b3de266f-4e6a-459d-a0af-2c54ae2ff9f1"
      },
      "source": [
        "df.drop('count', axis=1).corr()"
      ],
      "execution_count": null,
      "outputs": [
        {
          "output_type": "execute_result",
          "data": {
            "text/html": [
              "<div>\n",
              "<style scoped>\n",
              "    .dataframe tbody tr th:only-of-type {\n",
              "        vertical-align: middle;\n",
              "    }\n",
              "\n",
              "    .dataframe tbody tr th {\n",
              "        vertical-align: top;\n",
              "    }\n",
              "\n",
              "    .dataframe thead th {\n",
              "        text-align: right;\n",
              "    }\n",
              "</style>\n",
              "<table border=\"1\" class=\"dataframe\">\n",
              "  <thead>\n",
              "    <tr style=\"text-align: right;\">\n",
              "      <th></th>\n",
              "      <th>temp</th>\n",
              "      <th>atemp</th>\n",
              "      <th>humidity</th>\n",
              "      <th>windspeed</th>\n",
              "      <th>nova</th>\n",
              "    </tr>\n",
              "  </thead>\n",
              "  <tbody>\n",
              "    <tr>\n",
              "      <th>temp</th>\n",
              "      <td>1.000000</td>\n",
              "      <td>0.991839</td>\n",
              "      <td>-0.048478</td>\n",
              "      <td>-0.008669</td>\n",
              "      <td>0.020124</td>\n",
              "    </tr>\n",
              "    <tr>\n",
              "      <th>atemp</th>\n",
              "      <td>0.991839</td>\n",
              "      <td>1.000000</td>\n",
              "      <td>-0.031606</td>\n",
              "      <td>-0.049997</td>\n",
              "      <td>0.017824</td>\n",
              "    </tr>\n",
              "    <tr>\n",
              "      <th>humidity</th>\n",
              "      <td>-0.048478</td>\n",
              "      <td>-0.031606</td>\n",
              "      <td>1.000000</td>\n",
              "      <td>-0.296975</td>\n",
              "      <td>-0.001451</td>\n",
              "    </tr>\n",
              "    <tr>\n",
              "      <th>windspeed</th>\n",
              "      <td>-0.008669</td>\n",
              "      <td>-0.049997</td>\n",
              "      <td>-0.296975</td>\n",
              "      <td>1.000000</td>\n",
              "      <td>0.008898</td>\n",
              "    </tr>\n",
              "    <tr>\n",
              "      <th>nova</th>\n",
              "      <td>0.020124</td>\n",
              "      <td>0.017824</td>\n",
              "      <td>-0.001451</td>\n",
              "      <td>0.008898</td>\n",
              "      <td>1.000000</td>\n",
              "    </tr>\n",
              "  </tbody>\n",
              "</table>\n",
              "</div>"
            ],
            "text/plain": [
              "               temp     atemp  humidity  windspeed      nova\n",
              "temp       1.000000  0.991839 -0.048478  -0.008669  0.020124\n",
              "atemp      0.991839  1.000000 -0.031606  -0.049997  0.017824\n",
              "humidity  -0.048478 -0.031606  1.000000  -0.296975 -0.001451\n",
              "windspeed -0.008669 -0.049997 -0.296975   1.000000  0.008898\n",
              "nova       0.020124  0.017824 -0.001451   0.008898  1.000000"
            ]
          },
          "metadata": {
            "tags": []
          },
          "execution_count": 35
        }
      ]
    },
    {
      "cell_type": "code",
      "metadata": {
        "id": "nw3Na6VtZSaa"
      },
      "source": [
        "corr = df.drop('count', axis=1).corr()"
      ],
      "execution_count": null,
      "outputs": []
    },
    {
      "cell_type": "code",
      "metadata": {
        "id": "5IjuQDp2Y6op",
        "colab": {
          "base_uri": "https://localhost:8080/",
          "height": 126
        },
        "outputId": "a6518bf3-34e9-434e-c81c-147b0275ef0a"
      },
      "source": [
        "m = ~(corr.mask(np.eye(len(corr), dtype=bool)).abs() > 0.5).any()\n",
        "\n",
        "m"
      ],
      "execution_count": null,
      "outputs": [
        {
          "output_type": "execute_result",
          "data": {
            "text/plain": [
              "temp         False\n",
              "atemp        False\n",
              "humidity      True\n",
              "windspeed     True\n",
              "nova          True\n",
              "dtype: bool"
            ]
          },
          "metadata": {
            "tags": []
          },
          "execution_count": 40
        }
      ]
    },
    {
      "cell_type": "code",
      "metadata": {
        "id": "aVkY_tn4ZyKq"
      },
      "source": [],
      "execution_count": null,
      "outputs": []
    }
  ]
}